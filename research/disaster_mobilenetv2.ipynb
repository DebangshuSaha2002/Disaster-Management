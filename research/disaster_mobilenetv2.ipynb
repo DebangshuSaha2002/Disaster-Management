{
 "cells": [
  {
   "cell_type": "code",
   "execution_count": null,
   "metadata": {},
   "outputs": [],
   "source": [
    "!wget https://www.dropbox.com/scl/fi/em9gg01fixe0evr2gm1yr/train.zip?rlkey=82gu4jxpee8ud3xfhkcwobu9l&dl=0 # train\n",
    "!wget https://www.dropbox.com/scl/fi/toycvi2k3h0dz42gl3vk0/test.zip?rlkey=6wjn1yvhcfiuymbhkc2ubcro7&dl=0 # test\n",
    "!wget https://www.dropbox.com/scl/fi/khtr33xeykwpjjezlbkdd/validation.zip?rlkey=zbpzzxv3c368df70nrhssi3sz&dl=0 # validation"
   ]
  },
  {
   "cell_type": "code",
   "execution_count": null,
   "metadata": {},
   "outputs": [],
   "source": [
    "# unzip the downloaded zip files\n",
    "!unzip /content/train.zip?rlkey=82gu4jxpee8ud3xfhkcwobu9l # train\n",
    "!unzip /content/test.zip?rlkey=6wjn1yvhcfiuymbhkc2ubcro7 # test\n",
    "!unzip /content/validation.zip?rlkey=zbpzzxv3c368df70nrhssi3sz # validation"
   ]
  }
 ],
 "metadata": {
  "language_info": {
   "name": "python"
  }
 },
 "nbformat": 4,
 "nbformat_minor": 2
}
